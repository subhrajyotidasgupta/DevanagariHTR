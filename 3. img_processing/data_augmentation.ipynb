{
 "cells": [
  {
   "cell_type": "markdown",
   "metadata": {},
   "source": [
    "## Importing the required modules"
   ]
  },
  {
   "cell_type": "code",
   "execution_count": 20,
   "metadata": {},
   "outputs": [],
   "source": [
    "import cv2 \n",
    "import numpy as np \n",
    "import matplotlib.pyplot as plt\n",
    "import pandas as pd\n",
    "import os"
   ]
  },
  {
   "cell_type": "markdown",
   "metadata": {},
   "source": [
    "## Reading the main annotation file"
   ]
  },
  {
   "cell_type": "code",
   "execution_count": 21,
   "metadata": {},
   "outputs": [
    {
     "data": {
      "text/plain": [
       "1577"
      ]
     },
     "execution_count": 21,
     "metadata": {},
     "output_type": "execute_result"
    }
   ],
   "source": [
    "df = pd.read_csv('test/words.txt', sep = ' ', names = ['word_id', '#', 'gray', 'x', 'y', 'w', 'h', '##', 'text'])\n",
    "len(df)"
   ]
  },
  {
   "cell_type": "code",
   "execution_count": 22,
   "metadata": {},
   "outputs": [
    {
     "data": {
      "text/plain": [
       "'HIN_A_RA_0000'"
      ]
     },
     "execution_count": 22,
     "metadata": {},
     "output_type": "execute_result"
    }
   ],
   "source": [
    "df['word_id'][0][:-6]"
   ]
  },
  {
   "cell_type": "markdown",
   "metadata": {},
   "source": [
    "## Data Augmentation and Annotation file Updation"
   ]
  },
  {
   "cell_type": "code",
   "execution_count": 24,
   "metadata": {},
   "outputs": [],
   "source": [
    "path = 'test/'\n",
    "\n",
    "i = 0\n",
    "for folder in sorted(os.listdir(path)):\n",
    "    if folder != 'words.txt':\n",
    "        folder_path = path + folder + '/'\n",
    "        for subfolder in sorted(os.listdir(folder_path)):\n",
    "            subfolder_path = folder_path + subfolder + '/'\n",
    "            #print(i)\n",
    "            while i < 1577 and df['word_id'][i][:-6] == subfolder:\n",
    "                FILE_NAME = subfolder_path + df['word_id'][i] + '.png'\n",
    "                try: \n",
    "                    # Read image from disk. \n",
    "                    img = cv2.imread(FILE_NAME) \n",
    " \n",
    "                    # Shape of image in terms of pixels. \n",
    "                    (rows, cols) = img.shape[:2] \n",
    "  \n",
    "                    # getRotationMatrix2D creates a matrix needed for transformation. \n",
    "                    # We want matrix for rotation w.r.t center to 45 degree without scaling. \n",
    "                    M = cv2.getRotationMatrix2D((cols / 2, rows / 2), 5, 1) \n",
    "                    res = cv2.warpAffine(img, M, (cols, rows), borderValue=(255,255,255)) \n",
    "                    word_id = df['word_id'][i] + '-1' \n",
    "                    cv2.imwrite(subfolder_path + word_id + '.png', res)\n",
    "                    f = open('test/words.txt', 'a')\n",
    "                    f.write(word_id + ' ' + '# ' + '150 ' + str(df['x'][i]) + ' ' + str(df['y'][i]) + ' ' + \n",
    "                        str(df['w'][i]) + ' ' + str(df['h'][i]) + ' ' + df['##'][i] + ' ' + df['text'][i] + '\\n')\n",
    "                    f.close()\n",
    "    \n",
    "                    M = cv2.getRotationMatrix2D((cols / 2, rows / 2), 10, 1) \n",
    "                    res = cv2.warpAffine(img, M, (cols, rows), borderValue=(255,255,255)) \n",
    "                    word_id = df['word_id'][i] + '-2' \n",
    "                    cv2.imwrite(subfolder_path + word_id + '.png', res)\n",
    "                    f = open('test/words.txt', 'a')\n",
    "                    f.write(word_id + ' ' + '# ' + '150 ' + str(df['x'][i]) + ' ' + str(df['y'][i]) + ' ' + \n",
    "                        str(df['w'][i]) + ' ' + str(df['h'][i]) + ' ' + df['##'][i] + ' ' + df['text'][i] + '\\n')\n",
    "                    f.close()\n",
    "    \n",
    "                    M = cv2.getRotationMatrix2D((cols / 2, rows / 2), 350, 1) \n",
    "                    res = cv2.warpAffine(img, M, (cols, rows), borderValue=(255,255,255)) \n",
    "                    word_id = df['word_id'][i] + '-3' \n",
    "                    cv2.imwrite(subfolder_path + word_id + '.png', res)\n",
    "                    f = open('test/words.txt', 'a')\n",
    "                    f.write(word_id + ' ' + '# ' + '150 ' + str(df['x'][i]) + ' ' + str(df['y'][i]) + ' ' + \n",
    "                        str(df['w'][i]) + ' ' + str(df['h'][i]) + ' ' + df['##'][i] + ' ' + df['text'][i] + '\\n')\n",
    "                    f.close()\n",
    "    \n",
    "                    M = cv2.getRotationMatrix2D((cols / 2, rows / 2), 355, 1) \n",
    "                    res = cv2.warpAffine(img, M, (cols, rows), borderValue=(255,255,255)) \n",
    "                    word_id = df['word_id'][i] + '-4' \n",
    "                    cv2.imwrite(subfolder_path + word_id + '.png', res)\n",
    "                    f = open('test/words.txt', 'a')\n",
    "                    f.write(word_id + ' ' + '# ' + '150 ' + str(df['x'][i]) + ' ' + str(df['y'][i]) + ' ' + \n",
    "                        str(df['w'][i]) + ' ' + str(df['h'][i]) + ' ' + df['##'][i] + ' ' + df['text'][i] + '\\n')\n",
    "                    f.close()\n",
    "    \n",
    "                    kernel = np.ones((2,2),np.uint8)\n",
    "                    erosion = cv2.erode(img,kernel,iterations = 1)\n",
    "                    word_id = df['word_id'][i] + '-5' \n",
    "                    cv2.imwrite(subfolder_path + word_id + '.png', erosion)\n",
    "                    f = open('test/words.txt', 'a')\n",
    "                    f.write(word_id + ' ' + '# ' + '150 ' + str(df['x'][i]) + ' ' + str(df['y'][i]) + ' ' + \n",
    "                        str(df['w'][i]) + ' ' + str(df['h'][i]) + ' ' + df['##'][i] + ' ' + df['text'][i] + '\\n')\n",
    "                    f.close()\n",
    "                    \n",
    "                    M = cv2.getRotationMatrix2D((cols / 2, rows / 2), 5, 1) \n",
    "                    res = cv2.warpAffine(erosion, M, (cols, rows), borderValue=(255,255,255)) \n",
    "                    word_id = df['word_id'][i] + '-6' \n",
    "                    cv2.imwrite(subfolder_path + word_id + '.png', res)\n",
    "                    f = open('test/words.txt', 'a')\n",
    "                    f.write(word_id + ' ' + '# ' + '150 ' + str(df['x'][i]) + ' ' + str(df['y'][i]) + ' ' + \n",
    "                        str(df['w'][i]) + ' ' + str(df['h'][i]) + ' ' + df['##'][i] + ' ' + df['text'][i] + '\\n')\n",
    "                    f.close()\n",
    "                    \n",
    "                    M = cv2.getRotationMatrix2D((cols / 2, rows / 2), 10, 1) \n",
    "                    res = cv2.warpAffine(erosion, M, (cols, rows), borderValue=(255,255,255)) \n",
    "                    word_id = df['word_id'][i] + '-7' \n",
    "                    cv2.imwrite(subfolder_path + word_id + '.png', res)\n",
    "                    f = open('test/words.txt', 'a')\n",
    "                    f.write(word_id + ' ' + '# ' + '150 ' + str(df['x'][i]) + ' ' + str(df['y'][i]) + ' ' + \n",
    "                        str(df['w'][i]) + ' ' + str(df['h'][i]) + ' ' + df['##'][i] + ' ' + df['text'][i] + '\\n')\n",
    "                    f.close()\n",
    "                    \n",
    "                    M = cv2.getRotationMatrix2D((cols / 2, rows / 2), 350, 1) \n",
    "                    res = cv2.warpAffine(erosion, M, (cols, rows), borderValue=(255,255,255)) \n",
    "                    word_id = df['word_id'][i] + '-8' \n",
    "                    cv2.imwrite(subfolder_path + word_id + '.png', res)\n",
    "                    f = open('test/words.txt', 'a')\n",
    "                    f.write(word_id + ' ' + '# ' + '150 ' + str(df['x'][i]) + ' ' + str(df['y'][i]) + ' ' + \n",
    "                        str(df['w'][i]) + ' ' + str(df['h'][i]) + ' ' + df['##'][i] + ' ' + df['text'][i] + '\\n')\n",
    "                    f.close()\n",
    "                    \n",
    "                    M = cv2.getRotationMatrix2D((cols / 2, rows / 2), 355, 1) \n",
    "                    res = cv2.warpAffine(erosion, M, (cols, rows), borderValue=(255,255,255)) \n",
    "                    word_id = df['word_id'][i] + '-9' \n",
    "                    cv2.imwrite(subfolder_path + word_id + '.png', res)\n",
    "                    f = open('test/words.txt', 'a')\n",
    "                    f.write(word_id + ' ' + '# ' + '150 ' + str(df['x'][i]) + ' ' + str(df['y'][i]) + ' ' + \n",
    "                        str(df['w'][i]) + ' ' + str(df['h'][i]) + ' ' + df['##'][i] + ' ' + df['text'][i] + '\\n')\n",
    "                    f.close()\n",
    "            \n",
    "                    i += 1\n",
    "    \n",
    "    \n",
    "                except IOError: \n",
    "                    print ('Error while reading files !!!')\n",
    "                    i += 1\n",
    "#print(i)"
   ]
  },
  {
   "cell_type": "code",
   "execution_count": null,
   "metadata": {},
   "outputs": [],
   "source": []
  }
 ],
 "metadata": {
  "kernelspec": {
   "display_name": "Python 3",
   "language": "python",
   "name": "python3"
  },
  "language_info": {
   "codemirror_mode": {
    "name": "ipython",
    "version": 3
   },
   "file_extension": ".py",
   "mimetype": "text/x-python",
   "name": "python",
   "nbconvert_exporter": "python",
   "pygments_lexer": "ipython3",
   "version": "3.7.3"
  }
 },
 "nbformat": 4,
 "nbformat_minor": 2
}
