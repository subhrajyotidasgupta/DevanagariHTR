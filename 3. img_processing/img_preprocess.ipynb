{
 "cells": [
  {
   "cell_type": "markdown",
   "metadata": {},
   "source": [
    "# File to preprocess the images.\n",
    "\n",
    "This file deals with the images of the Devanagari numerals and converts it to an equivalent of MNIST dataset - dark background with the digits in bright colour. "
   ]
  },
  {
   "cell_type": "markdown",
   "metadata": {},
   "source": [
    "## Preprocessing script"
   ]
  },
  {
   "cell_type": "code",
   "execution_count": 8,
   "metadata": {},
   "outputs": [],
   "source": [
    "import cv2\n",
    "import os\n",
    "import numpy as np\n",
    "\n",
    "folder = ['train', 'test', 'valid']\n",
    "for data in folder:\n",
    "    path = 'Numeral/' + str(data) + '/'\n",
    "    for i in range(10):\n",
    "        folder = os.path.join(path,str(i))\n",
    "        for file in os.listdir(folder):\n",
    "            img = cv2.imread(os.path.join(folder, file))\n",
    "            if img is not None:\n",
    "                image = cv2.cvtColor(img, cv2.COLOR_BGR2GRAY)\n",
    "                image = cv2.copyMakeBorder(image,5,5,5,5,cv2.BORDER_CONSTANT,value=[255,255,255])\n",
    "                image = cv2.bitwise_not(image)\n",
    "                cv2.imwrite(os.path.join(folder, file), image)"
   ]
  },
  {
   "cell_type": "code",
   "execution_count": 9,
   "metadata": {},
   "outputs": [
    {
     "name": "stdout",
     "output_type": "stream",
     "text": [
      "Found 104 images belonging to 10 classes.\n",
      "Found 28 images belonging to 10 classes.\n"
     ]
    }
   ],
   "source": [
    "from keras.preprocessing.image import ImageDataGenerator\n",
    "\n",
    "datagen = ImageDataGenerator(\n",
    "    rescale = 1. /255,\n",
    "    data_format = 'channels_last')\n",
    "\n",
    "train_generator = datagen.flow_from_directory('Numeral/train',\n",
    "                                                   target_size = (28,28),\n",
    "                                                   batch_size = 8,\n",
    "                                                   color_mode = 'grayscale',\n",
    "                                                   class_mode = 'categorical')\n",
    "\n",
    "valid_generator = datagen.flow_from_directory('Numeral/valid',\n",
    "                                                   target_size = (28,28),\n",
    "                                                   batch_size = 8,\n",
    "                                                   color_mode = 'grayscale',\n",
    "                                                   class_mode = 'categorical')"
   ]
  },
  {
   "cell_type": "code",
   "execution_count": 10,
   "metadata": {},
   "outputs": [
    {
     "data": {
      "text/plain": [
       "<matplotlib.image.AxesImage at 0x7fc24dd197f0>"
      ]
     },
     "execution_count": 10,
     "metadata": {},
     "output_type": "execute_result"
    },
    {
     "data": {
      "image/png": "[encoded data removed]",
      "text/plain": [
       "<Figure size 432x288 with 1 Axes>"
      ]
     },
     "metadata": {},
     "output_type": "display_data"
    }
   ],
   "source": [
    "import matplotlib.pyplot as plt\n",
    "\n",
    "plt.imshow(train_generator[0][0][0].reshape(28,28), cmap='gray', vmin=0, vmax=1)"
   ]
  },
  {
   "cell_type": "code",
   "execution_count": null,
   "metadata": {},
   "outputs": [],
   "source": []
  }
 ],
 "metadata": {
  "kernelspec": {
   "display_name": "Python 3",
   "language": "python",
   "name": "python3"
  },
  "language_info": {
   "codemirror_mode": {
    "name": "ipython",
    "version": 3
   },
   "file_extension": ".py",
   "mimetype": "text/x-python",
   "name": "python",
   "nbconvert_exporter": "python",
   "pygments_lexer": "ipython3",
   "version": "3.6.5"
  }
 },
 "nbformat": 4,
 "nbformat_minor": 2
}
